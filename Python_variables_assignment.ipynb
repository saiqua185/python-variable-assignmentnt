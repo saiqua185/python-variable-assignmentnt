{
  "nbformat": 4,
  "nbformat_minor": 0,
  "metadata": {
    "colab": {
      "provenance": []
    },
    "kernelspec": {
      "name": "python3",
      "display_name": "Python 3"
    },
    "language_info": {
      "name": "python"
    }
  },
  "cells": [
    {
      "cell_type": "code",
      "execution_count": null,
      "metadata": {
        "id": "_MMbtsfE4GJ8"
      },
      "outputs": [],
      "source": []
    },
    {
      "cell_type": "markdown",
      "source": [
        "# Q1. Write all the conventions being followed while declaring a variable.\n",
        "**Ans**:- When declaring variables, follow these conventions:\n",
        "      *1*. *Use* descriptive names.\n",
        "      *2*. *Follow* naming conventions for the programming language.\n",
        "      *3*. **Avoid** *reserved* keywords.\n",
        "      *4*. Be consistent in naming style.\n",
        "      *5*. Avoid abbreviations and single-latter names.\n",
        "      *6*. Use meaningful prefixes or suffixes.\n",
        "      *7*. Use lowercase for local variables and uppercase for constants.\n",
        "      *8*. Avoid magic numbers.\n",
        "      *9*. consider scope and variability.\n"
      ],
      "metadata": {
        "id": "7HkkEH2H4HT4"
      }
    },
    {
      "cell_type": "markdown",
      "source": [],
      "metadata": {
        "id": "FD_MqiKu9KR-"
      }
    },
    {
      "cell_type": "markdown",
      "source": [
        "# Q2. What will happen if we declare a ristricted keyword as a variable?\n",
        "**Ans**:-If *we* declare a restricted keyword as a variable, it will likely cause a compilation or runtime error, as most programing language prohibit reserved keywords as variable names .The compiler or interpreter will recognize this conflict and alert us to the issue."
      ],
      "metadata": {
        "id": "qU-zk-pS8b8m"
      }
    },
    {
      "cell_type": "code",
      "source": [],
      "metadata": {
        "id": "E3CCEvUP-WRd"
      },
      "execution_count": null,
      "outputs": []
    },
    {
      "cell_type": "markdown",
      "source": [
        "# Q3. Can we actually declare a string as a variable name?\n",
        "**Ans**:-In *most* programming languages ,we cannot declare a string literal as a variable name directly.  Variable name must follow specific rules, typically starting with a letter, containing letters and numbers, and somtimes underscores. A string can represent the content or value assigned to a variable, but it can't be the variable name itself."
      ],
      "metadata": {
        "id": "ONoEeFA5-YCL"
      }
    },
    {
      "cell_type": "code",
      "source": [],
      "metadata": {
        "id": "BZp4pQBHBUTO"
      },
      "execution_count": null,
      "outputs": []
    },
    {
      "cell_type": "markdown",
      "source": [
        "# Q4. Is it possible for us to declare \"_\" as a variable? If so, then write one example of it.\n",
        "**Ans**:-Yes, we can use \"_\" as a variable name in some programming languages like Python. It's often used as a placeholder for values we  want to ignore or don't need in a particular context. Here's an example:\n",
        "\n",
        "```python\n",
        "for _ in range(5):\n",
        "    print(\"Hello\")\n",
        "```\n",
        "\n",
        "In this Python code, \"_\" is used to represent a loop variable that we don't intend to use within the loop."
      ],
      "metadata": {
        "id": "CgXhf-KRBXEl"
      }
    },
    {
      "cell_type": "markdown",
      "source": [
        "# Q5. Using an example , explain how the variable in python are dynamic in nature.\n",
        "**Ans**:-In Python, variables are dynamic in nature, which means they can change their data type during execution. Here's an example:\n",
        "\n",
        "```python\n",
        "x = 5  # x is an integer\n",
        "print(x)\n",
        "\n",
        "x = \"Hello\"  # x is now a string\n",
        "print(x)\n",
        "```\n",
        "\n",
        "In this example, the variable `x` initially holds an integer value (5) but is later assigned a string value (\"Hello\"). Python allows us  to change the type and content of a variable during runtime, making it dynamically typed."
      ],
      "metadata": {
        "id": "LL3J8frmDbG4"
      }
    },
    {
      "cell_type": "code",
      "source": [
        "from google.colab import drive\n",
        "drive.mount('/content/drive')"
      ],
      "metadata": {
        "id": "qnc0Ma6OFYFv"
      },
      "execution_count": null,
      "outputs": []
    }
  ]
}